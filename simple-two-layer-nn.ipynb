{
 "cells": [
  {
   "cell_type": "code",
   "execution_count": 6,
   "metadata": {
    "collapsed": true
   },
   "outputs": [],
   "source": [
    "%matplotlib inline\n",
    "import matplotlib.pyplot as plt\n",
    "import numpy as np\n",
    "import torch\n",
    "from torch import autograd\n",
    "import torch.nn.functional as F"
   ]
  },
  {
   "cell_type": "code",
   "execution_count": 7,
   "metadata": {
    "collapsed": true
   },
   "outputs": [],
   "source": [
    "# load the images and labels\n",
    "images = np.load(\"./images.npy\").copy().astype(np.float32)\n",
    "labels = np.load(\"./labels.npy\").copy().astype(np.int) # 0:apple 1:baseball 2:cookie 3:clock 4:fan\n",
    "\n",
    "# prepare some constants\n",
    "NUM_IMAGES, HEIGHT, WIDTH = images.shape\n",
    "NUM_CLASSES = len(np.unique(labels))\n",
    "NUM_OPT_STEPS = 5000 # default, may change in different experiments\n",
    "NUM_HIDDEN = 100\n",
    "\n",
    "# transform each image to a [height*width, 1] column vector\n",
    "X = images.reshape(NUM_IMAGES, HEIGHT * WIDTH) \n",
    "Y = labels\n",
    "\n",
    "# mean normalization on image data (mean = 0.0 and var = 1.0)\n",
    "mean = X.mean()\n",
    "s = X.std()\n",
    "X = (X - mean) / s\n",
    "\n",
    "# separate training, cross-validation and testing data (40000:5000:5000), all FloatTensors\n",
    "train_X, cross_X, test_X = X[:40000], X[40000:45000], X[45000:] \n",
    "train_Y, cross_Y, test_Y = Y[:40000], Y[40000:45000], Y[45000:]"
   ]
  },
  {
   "cell_type": "code",
   "execution_count": 8,
   "metadata": {
    "collapsed": true
   },
   "outputs": [],
   "source": [
    "class TwoLayerNN(torch.nn.Module):\n",
    "    \"\"\"\n",
    "    Customized 2-layer NN, subclassing the nn.Module\n",
    "    \"\"\"\n",
    "    def __init__(self):\n",
    "        super().__init__()\n",
    "        self.linear1 = torch.nn.Linear(HEIGHT * WIDTH, NUM_HIDDEN)\n",
    "        self.linear2 = torch.nn.Linear(NUM_HIDDEN, NUM_CLASSES)\n",
    "        \n",
    "    def forward(self, x):\n",
    "        x = F.relu(self.linear1(x))\n",
    "        y_hat = self.linear2(x)\n",
    "        return y_hat\n",
    "    \n",
    "model = TwoLayerNN()"
   ]
  },
  {
   "cell_type": "code",
   "execution_count": 9,
   "metadata": {
    "collapsed": true
   },
   "outputs": [],
   "source": [
    "def train(batch_size):\n",
    "    \"\"\"\n",
    "    Taking a single optimization step using batch size randomly-chosen examples\n",
    "    Args: \n",
    "        batch_size: int \n",
    "    Returns:\n",
    "        A int, the loss of training for 1 time using [batch_size] examples from training data\n",
    "    \"\"\"    \n",
    "    # model.train() puts our model in train mode, which can require different\n",
    "    # behavior than eval mode (for example in the case of dropout).\n",
    "    model.train()\n",
    "    # i is is a 1-D array with shape [batch_size]\n",
    "    i = np.random.choice(train_X.shape[0], size=batch_size, replace=False)\n",
    "    x = autograd.Variable(torch.from_numpy(train_X[i]))\n",
    "    y = autograd.Variable(torch.from_numpy(train_Y[i]))\n",
    "    optimizer.zero_grad()\n",
    "    y_hat_ = model(x)\n",
    "    loss = F.cross_entropy(y_hat_, y) #.cross_entropy(input, target, weight=None, size_average=True,\n",
    "                                      #               ignore_index=-100, reduce=True)\n",
    "                                      # input – Variable (N,C) where C = number of classes\n",
    "                                      # target – Variable (N) where each value is 0 <= targets[i] <= C-1\n",
    "    loss.backward()\n",
    "    optimizer.step()\n",
    "    return loss.data[0]"
   ]
  },
  {
   "cell_type": "code",
   "execution_count": 10,
   "metadata": {
    "collapsed": true
   },
   "outputs": [],
   "source": [
    "def accuracy(y, y_hat):\n",
    "    \"\"\"Compute training accuracy.\n",
    "    Args:\n",
    "       y: A 1-D int NumPy array.\n",
    "       y_hat: A 1-D int NumPy array.\n",
    "    Returns:\n",
    "       A float, the fraction of time y[i] == y_hat[i].\n",
    "    \"\"\"\n",
    "    return torch.mean((y == y_hat).float())   "
   ]
  },
  {
   "cell_type": "code",
   "execution_count": 13,
   "metadata": {
    "collapsed": true
   },
   "outputs": [],
   "source": [
    "def approx_train_accuracy():\n",
    "    \"\"\"\n",
    "    Compute accuracy on random training data\n",
    "    \"\"\"\n",
    "    # for a single batch of size 1000 to compute training accuracy\n",
    "    random_size = 1000\n",
    "    # test mode\n",
    "    model.eval() \n",
    "    # i is is a 1-D array with shape [batch_size]\n",
    "    i = np.random.choice(train_X.shape[0], size=random_size, replace=False)\n",
    "    x = autograd.Variable(torch.from_numpy(train_X[i])) \n",
    "    y = autograd.Variable(torch.from_numpy(train_Y[i]))\n",
    "    y_hat = model(x) # (1000, NUM_CLASSES)\n",
    "    y_hat = y_hat.max(dim = 1)[1] # get max on each row, and get the index of that max element\n",
    "    accu = accuracy(y.data, y_hat.data)\n",
    "    return accu"
   ]
  },
  {
   "cell_type": "code",
   "execution_count": 14,
   "metadata": {
    "collapsed": true
   },
   "outputs": [],
   "source": [
    "def val_accuracy():\n",
    "    \"\"\"\n",
    "    Computes validation accuracy using a \n",
    "    single batch and all validation examples.\n",
    "    \"\"\"\n",
    "    model.eval()\n",
    "    x = autograd.Variable(torch.from_numpy(cross_X))\n",
    "    y = autograd.Variable(torch.from_numpy(cross_Y))\n",
    "    y_hat = model(x)\n",
    "    y_hat = y_hat.max(dim = 1)[1]\n",
    "    accu = accuracy(y.data, y_hat.data)\n",
    "    return accu"
   ]
  },
  {
   "cell_type": "code",
   "execution_count": 46,
   "metadata": {
    "collapsed": true
   },
   "outputs": [],
   "source": [
    "def plotResult(train_accs, val_accs):\n",
    "    \"\"\"\n",
    "    Plot training accuracy and validation \n",
    "    accuracy as a function of optimization step.\n",
    "    Args:\n",
    "        train_accs: float list, training accurasy\n",
    "        val_accs: float list, validation accurasy\n",
    "    \"\"\"\n",
    "    plt.plot(train_accs, 'r-')\n",
    "    plt.plot(val_accs, 'b-')\n",
    "    plt.title(\"training(red) accuracy vs validation(blue) accuracy - step\")\n",
    "    plt.show()"
   ]
  },
  {
   "cell_type": "code",
   "execution_count": 88,
   "metadata": {},
   "outputs": [
    {
     "name": "stdout",
     "output_type": "stream",
     "text": [
      "     0  0.15  0.16\n",
      "   100  0.60  0.62\n",
      "   200  0.65  0.64\n",
      "   300  0.68  0.67\n",
      "   400  0.66  0.67\n",
      "   500  0.71  0.71\n",
      "   600  0.66  0.66\n",
      "   700  0.73  0.72\n",
      "   800  0.71  0.72\n",
      "   900  0.66  0.67\n",
      "  1000  0.70  0.69\n",
      "  1100  0.74  0.74\n",
      "  1200  0.72  0.72\n",
      "  1300  0.71  0.70\n",
      "  1400  0.73  0.74\n",
      "  1500  0.73  0.75\n",
      "  1600  0.74  0.74\n",
      "  1700  0.69  0.68\n",
      "  1800  0.73  0.73\n",
      "  1900  0.72  0.71\n",
      "  2000  0.71  0.71\n",
      "  2100  0.77  0.76\n",
      "  2200  0.75  0.76\n",
      "  2300  0.76  0.76\n",
      "  2400  0.74  0.72\n",
      "  2500  0.70  0.72\n",
      "  2600  0.72  0.74\n",
      "  2700  0.74  0.76\n",
      "  2800  0.77  0.75\n",
      "  2900  0.75  0.77\n",
      "  3000  0.78  0.77\n",
      "  3100  0.75  0.76\n",
      "  3200  0.73  0.73\n",
      "  3300  0.74  0.74\n",
      "  3400  0.78  0.76\n",
      "  3500  0.77  0.75\n",
      "  3600  0.80  0.76\n",
      "  3700  0.77  0.77\n",
      "  3800  0.78  0.76\n",
      "  3900  0.76  0.76\n",
      "  4000  0.77  0.75\n",
      "  4100  0.78  0.78\n",
      "  4200  0.79  0.78\n",
      "  4300  0.77  0.77\n",
      "  4400  0.75  0.76\n",
      "  4500  0.79  0.77\n",
      "  4600  0.76  0.78\n",
      "  4700  0.78  0.77\n",
      "  4800  0.78  0.77\n",
      "  4900  0.76  0.76\n"
     ]
    },
    {
     "data": {
      "image/png": "[encoded data removed]",
      "text/plain": [
       "<matplotlib.figure.Figure at 0x107b86eb8>"
      ]
     },
     "metadata": {},
     "output_type": "display_data"
    }
   ],
   "source": [
    "def train_and_predict(batch_size=1, num_steps=NUM_OPT_STEPS, \n",
    "                      opt=torch.optim.SGD, learning_rate=1e-3,\n",
    "                      show_loss=True, show_curve=True):\n",
    "    \"\"\"\n",
    "    Train the model \n",
    "    Args:\n",
    "        batch_size: batch_size of traiing data in each training step, default=1;\n",
    "        num_steps: number of training times, defult=5000;\n",
    "        opt: optimizer, default is SGD;\n",
    "        lr: learning rate, default=0.001;\n",
    "        show_loss: if print the loss during training;\n",
    "        show_curve: if plot the training/validation accuracy curve at the end;\n",
    "    \"\"\"\n",
    "    optimizer = opt(model.parameters(), lr=learning_rate)\n",
    "    \n",
    "    train_accs, val_accs = [], [] # clear the previous results\n",
    "    for i in range(num_steps):\n",
    "        train(batch_size)\n",
    "        if i % 100 == 0:\n",
    "            train_accs.append(approx_train_accuracy())\n",
    "            val_accs.append(val_accuracy())\n",
    "            if show_loss:\n",
    "                print(\"%6d %5.2f %5.2f\" % (i, train_accs[-1], val_accs[-1]))\n",
    "    if show_curve:\n",
    "        plotResult(train_accs, val_accs)\n",
    "    return train_accs, val_accs\n",
    "    \n",
    "# Train this network for 5,000 steps using a batch size of 1, \n",
    "# using Adam as the optimizer with a learning rate of 0.001.\n",
    "_, _ = train_and_predict(batch_size=1, num_steps=5000, opt=torch.optim.Adam, \n",
    "                  learning_rate=0.001, show_loss=True, show_curve=True)"
   ]
  },
  {
   "cell_type": "code",
   "execution_count": 87,
   "metadata": {
    "collapsed": true
   },
   "outputs": [],
   "source": [
    "# Reset the parameters of the model\n",
    "for m in model.children():\n",
    "    m.reset_parameters()"
   ]
  },
  {
   "cell_type": "code",
   "execution_count": 37,
   "metadata": {},
   "outputs": [
    {
     "name": "stdout",
     "output_type": "stream",
     "text": [
      "     0  0.23  0.21\n",
      "   100  0.76  0.73\n",
      "   200  0.77  0.76\n",
      "   300  0.75  0.74\n",
      "   400  0.75  0.76\n",
      "   500  0.81  0.78\n",
      "   600  0.79  0.79\n",
      "   700  0.78  0.79\n",
      "   800  0.80  0.79\n",
      "   900  0.80  0.80\n",
      "  1000  0.81  0.80\n",
      "  1100  0.83  0.81\n",
      "  1200  0.80  0.80\n",
      "  1300  0.81  0.81\n",
      "  1400  0.83  0.82\n",
      "  1500  0.84  0.81\n",
      "  1600  0.83  0.82\n",
      "  1700  0.84  0.82\n",
      "  1800  0.82  0.82\n",
      "  1900  0.86  0.82\n",
      "  2000  0.82  0.81\n",
      "  2100  0.85  0.82\n",
      "  2200  0.83  0.83\n",
      "  2300  0.83  0.80\n",
      "  2400  0.84  0.83\n",
      "  2500  0.84  0.82\n",
      "  2600  0.85  0.82\n",
      "  2700  0.85  0.84\n",
      "  2800  0.86  0.83\n",
      "  2900  0.84  0.83\n",
      "  3000  0.87  0.84\n",
      "  3100  0.86  0.83\n",
      "  3200  0.85  0.84\n",
      "  3300  0.84  0.84\n",
      "  3400  0.86  0.83\n",
      "  3500  0.86  0.83\n",
      "  3600  0.86  0.84\n",
      "  3700  0.85  0.83\n",
      "  3800  0.85  0.84\n",
      "  3900  0.87  0.83\n",
      "  4000  0.84  0.84\n",
      "  4100  0.85  0.84\n",
      "  4200  0.86  0.84\n",
      "  4300  0.85  0.84\n",
      "  4400  0.86  0.84\n",
      "  4500  0.87  0.83\n",
      "  4600  0.85  0.85\n",
      "  4700  0.86  0.84\n",
      "  4800  0.86  0.84\n",
      "  4900  0.86  0.85\n"
     ]
    },
    {
     "data": {
      "image/png": "[encoded data removed]",
      "text/plain": [
       "<matplotlib.figure.Figure at 0x107bcda58>"
      ]
     },
     "metadata": {},
     "output_type": "display_data"
    }
   ],
   "source": [
    "# Retrain the network for 5,000 steps \n",
    "# using a batch size of 10, using Adam as the optimizer \n",
    "# with a learning rate of 0.001.\n",
    "train_and_predict(batch_size=10, num_steps=5000, opt=torch.optim.Adam, learning_rate=0.001, \n",
    "                  show_loss=True, show_curve=True)"
   ]
  },
  {
   "cell_type": "markdown",
   "metadata": {},
   "source": [
    "### Experiment on different batch sizes"
   ]
  },
  {
   "cell_type": "code",
   "execution_count": 73,
   "metadata": {},
   "outputs": [
    {
     "name": "stdout",
     "output_type": "stream",
     "text": [
      "size= 10\n",
      "size= 20\n",
      "size= 30\n",
      "size= 40\n",
      "size= 50\n",
      "size= 60\n",
      "size= 70\n",
      "size= 80\n",
      "size= 90\n",
      "size= 100\n",
      "size= 110\n",
      "size= 120\n",
      "size= 130\n",
      "size= 140\n"
     ]
    },
    {
     "data": {
      "image/png": "[encoded data removed]",
      "text/plain": [
       "<matplotlib.figure.Figure at 0x107cbf710>"
      ]
     },
     "metadata": {},
     "output_type": "display_data"
    }
   ],
   "source": [
    "# result sets\n",
    "all_train_accu = []\n",
    "all_valid_accu = []\n",
    "\n",
    "for size in range(10, 150, 10):\n",
    "    print(\"size=\", size)\n",
    "    # clear param cache\n",
    "    for m in model.children():\n",
    "        m.reset_parameters()\n",
    "        \n",
    "    # train the model with diff batch sizes\n",
    "    train_accs, val_accs = train_and_predict(batch_size=size, num_steps=5000, opt=torch.optim.Adam, \n",
    "                                            learning_rate=0.001, show_loss=False, show_curve=False)\n",
    "    \n",
    "    # get the last training and validation accuracy\n",
    "    all_train_accu.append(train_accs[-1])\n",
    "    all_valid_accu.append(val_accs[-1])\n",
    "\n",
    "# plot the training and validation acuracy w.r.t different batch sizes\n",
    "plt.plot(all_train_accu, 'r-')\n",
    "plt.plot(all_valid_accu, 'b-')\n",
    "plt.title(\"training(red) accuracy vs validation(blue) accuracy - step\")\n",
    "plt.show()"
   ]
  },
  {
   "cell_type": "markdown",
   "metadata": {},
   "source": [
    "#### Findings:\n",
    "We can see that by increasing only the batch size, accuracy on validation dataset do not increase further after size 40, but training accuracy keeps climbing. This indicates after (for current training settings) batch size should not be larger than 40 otherwise variance will increase (model gets more prone to overfitting)."
   ]
  },
  {
   "cell_type": "markdown",
   "metadata": {},
   "source": [
    "### Experiment on different learning rate"
   ]
  },
  {
   "cell_type": "code",
   "execution_count": 79,
   "metadata": {},
   "outputs": [
    {
     "name": "stdout",
     "output_type": "stream",
     "text": [
      "lr= 0.01\n",
      "lr= 0.015\n",
      "lr= 0.022\n",
      "lr= 0.033\n",
      "lr= 0.05\n",
      "lr= 0.075\n",
      "lr= 0.112\n",
      "lr= 0.168\n",
      "lr= 0.252\n",
      "lr= 0.378\n",
      "lr= 0.567\n",
      "lr= 0.85\n"
     ]
    },
    {
     "data": {
      "image/png": "[encoded data removed]",
      "text/plain": [
       "<matplotlib.figure.Figure at 0x107b27eb8>"
      ]
     },
     "metadata": {},
     "output_type": "display_data"
    }
   ],
   "source": [
    "# result sets\n",
    "all_train_accu = []\n",
    "all_valid_accu = []\n",
    "\n",
    "rate = 0.01\n",
    "while(rate <= 1):\n",
    "    print(\"lr=\", rate)\n",
    "    \n",
    "    # clear param cache\n",
    "    for m in model.children():\n",
    "        m.reset_parameters()\n",
    "        \n",
    "    # train the model with diff batch sizes\n",
    "    train_accs, val_accs = train_and_predict(batch_size=40, num_steps=5000, opt=torch.optim.Adam, \n",
    "                                            learning_rate=rate, show_loss=False, show_curve=False)\n",
    "    \n",
    "    # get the last training and validation accuracy\n",
    "    all_train_accu.append(train_accs[-1])\n",
    "    all_valid_accu.append(val_accs[-1])\n",
    "    \n",
    "    # lr inrease by 2 times\n",
    "    rate = round(rate * 1.5, 3)\n",
    "    \n",
    "# plot the training and validation acuracy w.r.t different batch sizes\n",
    "plt.plot(all_train_accu, 'r-')\n",
    "plt.plot(all_valid_accu, 'b-')\n",
    "plt.title(\"training(red) accuracy vs validation(blue) accuracy - step\")\n",
    "plt.show()"
   ]
  },
  {
   "cell_type": "markdown",
   "metadata": {},
   "source": [
    "#### Findings:\n",
    "We can see that when learning rate increase and approches to 1, the validation accuracy drops. This indicates the learning rate is too large so the step taken became too big for the model, thus it did not converge to minimum. An acceptable range of learning rate from this experiment is between 0.01 and 0.05."
   ]
  },
  {
   "cell_type": "markdown",
   "metadata": {},
   "source": [
    "### Experiment on different number of steps"
   ]
  },
  {
   "cell_type": "code",
   "execution_count": 82,
   "metadata": {},
   "outputs": [
    {
     "name": "stdout",
     "output_type": "stream",
     "text": [
      "step= 100\n",
      "step= 150\n",
      "step= 225\n",
      "step= 337\n",
      "step= 505\n",
      "step= 757\n",
      "step= 1135\n",
      "step= 1702\n",
      "step= 2553\n",
      "step= 3829\n",
      "step= 5743\n",
      "step= 8614\n"
     ]
    },
    {
     "data": {
      "image/png": "[encoded data removed]",
      "text/plain": [
       "<matplotlib.figure.Figure at 0x12c685208>"
      ]
     },
     "metadata": {},
     "output_type": "display_data"
    }
   ],
   "source": [
    "# result sets\n",
    "all_train_accu = []\n",
    "all_valid_accu = []\n",
    "\n",
    "step = 100\n",
    "while(step <= 10000):\n",
    "    print(\"step=\", step)\n",
    "    \n",
    "    # clear param cache\n",
    "    for m in model.children():\n",
    "        m.reset_parameters()\n",
    "        \n",
    "    # train the model with diff batch sizes\n",
    "    train_accs, val_accs = train_and_predict(batch_size=40, num_steps=step, opt=torch.optim.Adam, \n",
    "                                            learning_rate=0.05, show_loss=False, show_curve=False)\n",
    "    \n",
    "    # get the last training and validation accuracy\n",
    "    all_train_accu.append(train_accs[-1])\n",
    "    all_valid_accu.append(val_accs[-1])\n",
    "    \n",
    "    # lr inrease by 2 times\n",
    "    step = int(step * 1.5)\n",
    "    \n",
    "# plot the training and validation acuracy w.r.t different batch sizes\n",
    "plt.plot(all_train_accu, 'r-')\n",
    "plt.plot(all_valid_accu, 'b-')\n",
    "plt.title(\"training(red) accuracy vs validation(blue) accuracy - step\")\n",
    "plt.show()"
   ]
  },
  {
   "cell_type": "markdown",
   "metadata": {},
   "source": [
    "#### Findings:\n",
    "We can see that before step=1135, the training and validation accuracy increase together. After that threshold, overfitting became more and more serious, while the validation accuracy only improves very little. After step 3829 the validation accuracy seems to converge."
   ]
  },
  {
   "cell_type": "markdown",
   "metadata": {},
   "source": [
    "**Q: What is the best validation accuracy you could achieve? What was the corresponding batch size and learning rate? How many optimization steps did you need to take to reach that accuracy? How long did training take?**\n",
    "\n",
    "A:  As shown below, the best validation accuracy (with the Adam optimizer) was 86%. The selected batch size was 40, learning rate was 0.05, number of steps was 4000. Total training time is approximately 13 seconds."
   ]
  },
  {
   "cell_type": "code",
   "execution_count": 91,
   "metadata": {},
   "outputs": [
    {
     "name": "stdout",
     "output_type": "stream",
     "text": [
      "     0  0.22  0.22\n",
      "   100  0.79  0.77\n",
      "   200  0.78  0.78\n",
      "   300  0.82  0.80\n",
      "   400  0.82  0.81\n",
      "   500  0.84  0.82\n",
      "   600  0.83  0.82\n",
      "   700  0.83  0.82\n",
      "   800  0.83  0.82\n",
      "   900  0.84  0.82\n",
      "  1000  0.84  0.83\n",
      "  1100  0.84  0.83\n",
      "  1200  0.87  0.84\n",
      "  1300  0.86  0.84\n",
      "  1400  0.88  0.84\n",
      "  1500  0.85  0.84\n",
      "  1600  0.88  0.84\n",
      "  1700  0.86  0.84\n",
      "  1800  0.87  0.83\n",
      "  1900  0.88  0.84\n",
      "  2000  0.89  0.85\n",
      "  2100  0.88  0.84\n",
      "  2200  0.89  0.85\n",
      "  2300  0.90  0.85\n",
      "  2400  0.88  0.85\n",
      "  2500  0.87  0.85\n",
      "  2600  0.89  0.85\n",
      "  2700  0.89  0.85\n",
      "  2800  0.89  0.85\n",
      "  2900  0.91  0.85\n",
      "  3000  0.90  0.86\n",
      "  3100  0.89  0.85\n",
      "  3200  0.90  0.85\n",
      "  3300  0.90  0.86\n",
      "  3400  0.91  0.86\n",
      "  3500  0.90  0.86\n",
      "  3600  0.91  0.86\n",
      "  3700  0.91  0.85\n",
      "  3800  0.91  0.85\n",
      "  3900  0.90  0.86\n"
     ]
    },
    {
     "data": {
      "image/png": "[encoded data removed]",
      "text/plain": [
       "<matplotlib.figure.Figure at 0x1084f4a90>"
      ]
     },
     "metadata": {},
     "output_type": "display_data"
    },
    {
     "name": "stdout",
     "output_type": "stream",
     "text": [
      "training running time is:  0:00:12.985094\n"
     ]
    }
   ],
   "source": [
    "# Reset the parameters of the model\n",
    "for m in model.children():\n",
    "    m.reset_parameters()\n",
    "\n",
    "# to track running time\n",
    "import datetime\n",
    "time_start = datetime.datetime.now()\n",
    "\n",
    "# train the model from begining with selected params\n",
    "_, _ = train_and_predict(batch_size=40, num_steps=4000, opt=torch.optim.Adam, \n",
    "                  learning_rate=0.05, show_loss=True, show_curve=True)\n",
    "\n",
    "time_end = datetime.datetime.now()\n",
    "print(\"training running time is: \", time_end - time_start)"
   ]
  }
 ],
 "metadata": {
  "kernelspec": {
   "display_name": "Python 3",
   "language": "python",
   "name": "python3"
  },
  "language_info": {
   "codemirror_mode": {
    "name": "ipython",
    "version": 3
   },
   "file_extension": ".py",
   "mimetype": "text/x-python",
   "name": "python",
   "nbconvert_exporter": "python",
   "pygments_lexer": "ipython3",
   "version": "3.5.2"
  }
 },
 "nbformat": 4,
 "nbformat_minor": 2
}
