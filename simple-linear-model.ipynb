{
 "cells": [
  {
   "cell_type": "markdown",
   "metadata": {},
   "source": [
    "**Q: What accuracy would a random classifier (which assigns labels randomly) achieve on this task (approximately)? **\n",
    "\n",
    "A: The accuracy will approximate 20% because our dataset only has true labels values witnin 0,1,2,3,and 4. So the true label of each example has a 20% chance to be chosen by a random classifier, which makes our overall predication accuracy approximately to be 20%.\n",
    "\n",
    "**What accuracy would a majority-vote classifier achieve on this task (approximately)?**\n",
    "\n",
    "A: With a majority-vote classifier, the accuracy will also approximate to 20%. Since each label between 0-4 exists the same amount in the dataset, they share the same majority. Thus, our classifier will randomly choose a label an apply it to all examples, which makes it the same as a random classifier."
   ]
  },
  {
   "cell_type": "code",
   "execution_count": 3,
   "metadata": {
    "collapsed": true
   },
   "outputs": [],
   "source": [
    "%matplotlib inline\n",
    "import matplotlib.pyplot as plt\n",
    "import numpy as np\n",
    "import torch\n",
    "from torch import autograd\n",
    "import torch.nn.functional as F"
   ]
  },
  {
   "cell_type": "code",
   "execution_count": 53,
   "metadata": {},
   "outputs": [],
   "source": [
    "# load the images and labels\n",
    "images = np.load(\"./images.npy\").copy().astype(np.float32)\n",
    "labels = np.load(\"./labels.npy\").copy().astype(np.int) # 0:apple 1:baseball 2:cookie 3:clock 4:fan\n",
    "\n",
    "# prepare some constants\n",
    "NUM_IMAGES, HEIGHT, WIDTH = images.shape\n",
    "NUM_CLASSES = len(np.unique(labels))\n",
    "NUM_OPT_STEPS = 5000\n",
    "\n",
    "# transform each image to a [height*width, 1] column vector\n",
    "X = images.reshape(NUM_IMAGES, HEIGHT * WIDTH) \n",
    "Y = labels\n",
    "\n",
    "# mean normalization on image data (mean = 0.0 and var = 1.0)\n",
    "mean = X.mean()\n",
    "s = X.std()\n",
    "X = (X - mean) / s\n",
    "\n",
    "# separate training, cross-validation and testing data (40000:5000:5000), all FloatTensors\n",
    "train_X, cross_X, test_X = X[:40000], X[40000:45000], X[45000:] \n",
    "train_Y, cross_Y, test_Y = Y[:40000], Y[40000:45000], Y[45000:]"
   ]
  },
  {
   "cell_type": "code",
   "execution_count": 7,
   "metadata": {
    "collapsed": true
   },
   "outputs": [],
   "source": [
    "class LinearModel(torch.nn.Module):\n",
    "    def __init__(self):\n",
    "        super().__init__()\n",
    "        self.linear = torch.nn.Linear(HEIGHT * WIDTH, NUM_CLASSES)\n",
    "    \n",
    "    def forward(self, x):\n",
    "        x = self.linear(x)\n",
    "        return x"
   ]
  },
  {
   "cell_type": "markdown",
   "metadata": {},
   "source": [
    "**Q: Behind the scenes, the torch.nn.Linear module is creating parameters for you (and initializing those parameters to reason- able values). In this particular case, how many weights and how many biases are being created?**\n",
    "\n",
    "A: The number of weights is **HEIGHT \\* WIDTH \\* NUM_CLASSES**. The number of biases is **NUM_CLASSES**."
   ]
  },
  {
   "cell_type": "code",
   "execution_count": 9,
   "metadata": {
    "collapsed": true
   },
   "outputs": [],
   "source": [
    "model = LinearModel()"
   ]
  },
  {
   "cell_type": "markdown",
   "metadata": {},
   "source": [
    "**Q: What are two optimizers from torch.optim that you implemented in previous homeworks? What are the two most important arguments that these optimizers require you to provide?**\n",
    "\n",
    "A: Adam and SGD. The two most important arguments are **params** and **lr** (learning rate)."
   ]
  },
  {
   "cell_type": "code",
   "execution_count": 23,
   "metadata": {
    "collapsed": true
   },
   "outputs": [],
   "source": [
    "optimizer = torch.optim.SGD(model.parameters(), lr=1e-6)"
   ]
  },
  {
   "cell_type": "code",
   "execution_count": 24,
   "metadata": {
    "collapsed": true
   },
   "outputs": [],
   "source": [
    "def train(batch_size):\n",
    "    \"\"\"\n",
    "    Taking a single optimization step using batch size randomly-chosen examples\n",
    "    Args: \n",
    "        batch_size: int \n",
    "    Returns:\n",
    "        A int, the loss of training for 1 time using [batch_size] examples from training data\n",
    "    \"\"\"    \n",
    "    # model.train() puts our model in train mode, which can require different\n",
    "    # behavior than eval mode (for example in the case of dropout).\n",
    "    model.train()\n",
    "    # i is is a 1-D array with shape [batch_size]\n",
    "    i = np.random.choice(train_X.shape[0], size=batch_size, replace=False)\n",
    "    x = autograd.Variable(torch.from_numpy(train_X[i]))\n",
    "    y = autograd.Variable(torch.from_numpy(train_Y[i]))\n",
    "    optimizer.zero_grad()\n",
    "    y_hat_ = model(x)\n",
    "    loss = F.cross_entropy(y_hat_, y) #.cross_entropy(input, target, weight=None, size_average=True,\n",
    "                                      #               ignore_index=-100, reduce=True)\n",
    "                                      # input – Variable (N,C) where C = number of classes\n",
    "                                      # target – Variable (N) where each value is 0 <= targets[i] <= C-1\n",
    "    loss.backward()\n",
    "    optimizer.step()\n",
    "    return loss.data[0]"
   ]
  },
  {
   "cell_type": "code",
   "execution_count": 33,
   "metadata": {
    "collapsed": true
   },
   "outputs": [],
   "source": [
    "def accuracy(y, y_hat):\n",
    "    \"\"\"Compute accuracy.\n",
    "    Args:\n",
    "       y: A 1-D int NumPy array.\n",
    "       y_hat: A 1-D int NumPy array.\n",
    "    Returns:\n",
    "       A float, the fraction of time y[i] == y_hat[i].\n",
    "    \"\"\"\n",
    "    return torch.mean((y == y_hat).float())   "
   ]
  },
  {
   "cell_type": "code",
   "execution_count": 50,
   "metadata": {},
   "outputs": [],
   "source": [
    "def approx_train_accuracy():\n",
    "    # for a single batch of size 1000 to compute training accuracy\n",
    "    batch_size = 1000\n",
    "    # test mode\n",
    "    model.eval() \n",
    "    # i is is a 1-D array with shape [batch_size]\n",
    "    i = np.random.choice(train_X.shape[0], size=batch_size, replace=False)\n",
    "    x = autograd.Variable(torch.from_numpy(train_X[i])) \n",
    "    y = autograd.Variable(torch.from_numpy(train_Y[i]))\n",
    "    y_hat = model(x) # (1000, NUM_CLASSES)\n",
    "    y_hat = y_hat.max(dim = 1)[1] # get max on each row, and get the index of that max element\n",
    "    accu = accuracy(y.data, y_hat.data)\n",
    "    return accu"
   ]
  },
  {
   "cell_type": "code",
   "execution_count": 51,
   "metadata": {},
   "outputs": [],
   "source": [
    "def val_accuracy():\n",
    "    \"\"\"\n",
    "    Computes accuracy using a single batch with all validation examples.\n",
    "    \"\"\"\n",
    "    model.eval()\n",
    "    x = autograd.Variable(torch.from_numpy(cross_X))\n",
    "    y = autograd.Variable(torch.from_numpy(cross_Y))\n",
    "    y_hat = model(x)\n",
    "    y_hat = y_hat.max(dim = 1)[1]\n",
    "    accu = accuracy(y.data, y_hat.data)\n",
    "    return accu"
   ]
  },
  {
   "cell_type": "code",
   "execution_count": 54,
   "metadata": {},
   "outputs": [
    {
     "name": "stdout",
     "output_type": "stream",
     "text": [
      "     0  0.24  0.23\n",
      "   100  0.23  0.23\n",
      "   200  0.23  0.23\n",
      "   300  0.23  0.23\n",
      "   400  0.23  0.23\n",
      "   500  0.25  0.23\n",
      "   600  0.22  0.24\n",
      "   700  0.24  0.24\n",
      "   800  0.24  0.24\n",
      "   900  0.21  0.24\n",
      "  1000  0.24  0.24\n",
      "  1100  0.25  0.24\n",
      "  1200  0.25  0.24\n",
      "  1300  0.24  0.24\n",
      "  1400  0.23  0.24\n",
      "  1500  0.24  0.24\n",
      "  1600  0.24  0.24\n",
      "  1700  0.24  0.24\n",
      "  1800  0.24  0.24\n",
      "  1900  0.27  0.25\n",
      "  2000  0.24  0.25\n",
      "  2100  0.24  0.25\n",
      "  2200  0.24  0.25\n",
      "  2300  0.25  0.25\n",
      "  2400  0.25  0.25\n",
      "  2500  0.26  0.25\n",
      "  2600  0.22  0.25\n",
      "  2700  0.26  0.25\n",
      "  2800  0.23  0.25\n",
      "  2900  0.26  0.25\n",
      "  3000  0.24  0.25\n",
      "  3100  0.26  0.25\n",
      "  3200  0.25  0.25\n",
      "  3300  0.26  0.25\n",
      "  3400  0.25  0.26\n",
      "  3500  0.25  0.26\n",
      "  3600  0.30  0.26\n",
      "  3700  0.28  0.26\n",
      "  3800  0.27  0.26\n",
      "  3900  0.23  0.26\n",
      "  4000  0.26  0.26\n",
      "  4100  0.26  0.26\n",
      "  4200  0.26  0.26\n",
      "  4300  0.26  0.26\n",
      "  4400  0.27  0.26\n",
      "  4500  0.28  0.26\n",
      "  4600  0.28  0.26\n",
      "  4700  0.29  0.26\n",
      "  4800  0.24  0.26\n",
      "  4900  0.26  0.26\n"
     ]
    }
   ],
   "source": [
    "train_accs, val_accs = [], []\n",
    "for i in range(NUM_OPT_STEPS):\n",
    "    train(1) # use SGD, 1 example\n",
    "    if i % 100 == 0:\n",
    "        train_accs.append(approx_train_accuracy())\n",
    "        val_accs.append(val_accuracy())\n",
    "        print(\"%6d %5.2f %5.2f\" % (i, train_accs[-1], val_accs[-1]))"
   ]
  },
  {
   "cell_type": "code",
   "execution_count": 55,
   "metadata": {},
   "outputs": [
    {
     "data": {
      "image/png": "[encoded data removed]",
      "text/plain": [
       "<matplotlib.figure.Figure at 0x10dc01978>"
      ]
     },
     "metadata": {},
     "output_type": "display_data"
    }
   ],
   "source": [
    "plt.plot(train_accs, 'r-')\n",
    "plt.plot(val_accs, 'b-')\n",
    "plt.title(\"training(red) accuracy vs validation(blue) accuracy - step\")\n",
    "plt.show()"
   ]
  },
  {
   "cell_type": "markdown",
   "metadata": {},
   "source": [
    "**Q: Approximately what were the top train and validation accuracies reached during these 5,000 steps? What could be the problem here?**\n",
    "\n",
    "A: The top for training accuracy was approximately 29.5%, while for validation accuracy 26%. When training accuracy was at the peak, validation accuracy was much lower. This indicates the model was overfitting to the training data at that moment."
   ]
  },
  {
   "cell_type": "code",
   "execution_count": 82,
   "metadata": {},
   "outputs": [
    {
     "name": "stdout",
     "output_type": "stream",
     "text": [
      "     0  0.22  0.22\n",
      "   100  0.50  0.47\n",
      "   200  0.58  0.58\n",
      "   300  0.60  0.61\n",
      "   400  0.63  0.64\n",
      "   500  0.64  0.66\n",
      "   600  0.65  0.67\n",
      "   700  0.66  0.67\n",
      "   800  0.67  0.69\n",
      "   900  0.65  0.67\n",
      "  1000  0.74  0.71\n",
      "  1100  0.71  0.72\n",
      "  1200  0.73  0.72\n",
      "  1300  0.70  0.71\n",
      "  1400  0.74  0.72\n",
      "  1500  0.75  0.73\n",
      "  1600  0.73  0.72\n",
      "  1700  0.73  0.72\n",
      "  1800  0.70  0.71\n",
      "  1900  0.74  0.72\n",
      "  2000  0.76  0.73\n",
      "  2100  0.75  0.72\n",
      "  2200  0.75  0.74\n",
      "  2300  0.73  0.74\n",
      "  2400  0.75  0.74\n",
      "  2500  0.77  0.74\n",
      "  2600  0.73  0.74\n",
      "  2700  0.72  0.74\n",
      "  2800  0.72  0.73\n",
      "  2900  0.76  0.74\n",
      "  3000  0.73  0.74\n",
      "  3100  0.75  0.74\n",
      "  3200  0.74  0.74\n",
      "  3300  0.74  0.72\n",
      "  3400  0.76  0.74\n",
      "  3500  0.74  0.75\n",
      "  3600  0.75  0.74\n",
      "  3700  0.72  0.75\n",
      "  3800  0.74  0.74\n",
      "  3900  0.77  0.75\n",
      "  4000  0.76  0.74\n",
      "  4100  0.76  0.75\n",
      "  4200  0.75  0.75\n",
      "  4300  0.75  0.74\n",
      "  4400  0.76  0.75\n",
      "  4500  0.71  0.75\n",
      "  4600  0.75  0.73\n",
      "  4700  0.73  0.74\n",
      "  4800  0.73  0.73\n",
      "  4900  0.73  0.74\n"
     ]
    },
    {
     "data": {
      "image/png": "[encoded data removed]",
      "text/plain": [
       "<matplotlib.figure.Figure at 0x1079caac8>"
      ]
     },
     "metadata": {},
     "output_type": "display_data"
    }
   ],
   "source": [
    "# Optimization on current model to reach an accuracy of 60% above\n",
    "\n",
    "model = LinearModel() # re-create a model to start from begninning\n",
    "optimizer = torch.optim.Adadelta(model.parameters(), lr=0.1)\n",
    "\n",
    "train_accs, val_accs = [], []\n",
    "for i in range(NUM_OPT_STEPS):\n",
    "    train(1) # use SGD, 1 example\n",
    "    if i % 100 == 0:\n",
    "        train_accs.append(approx_train_accuracy())\n",
    "        val_accs.append(val_accuracy())\n",
    "        print(\"%6d %5.2f %5.2f\" % (i, train_accs[-1], val_accs[-1]))\n",
    "plt.plot(train_accs, 'r-')\n",
    "plt.plot(val_accs, 'b-')\n",
    "plt.title(\"training(red) accuracy vs validation(blue) accuracy - step\")\n",
    "plt.show()"
   ]
  },
  {
   "cell_type": "markdown",
   "metadata": {},
   "source": [
    "**Q: What was the final optimizer, learning rate pair that led to reasonable validation accuracy? What was the best validation accuracy that you achieved?**\n",
    "\n",
    "A: After testing all the optimizers in torch.optim with the same lr of 0.1, Adadelta gave the best validataion accuracy of 0.75.\n",
    "\n",
    "|Optimizer      | Validation accu|\n",
    "| ------------- |:--------------:|\n",
    "| Adadelta      | 0.74-0.75      |\n",
    "| Adagrad       | 0.72-0.73      |\n",
    "| Adamax        | 0.69-0.71      |\n",
    "| ASGD          | 0.67-0.69      |\n",
    "| LBFGS         | -              |\n",
    "| RMSprop       | 0.70-0.71      |\n",
    "| Rprop         | 0.51           |\n",
    "| SGD           | 0.68-0.69      |"
   ]
  }
 ],
 "metadata": {
  "kernelspec": {
   "display_name": "Python 3",
   "language": "python",
   "name": "python3"
  },
  "language_info": {
   "codemirror_mode": {
    "name": "ipython",
    "version": 3
   },
   "file_extension": ".py",
   "mimetype": "text/x-python",
   "name": "python",
   "nbconvert_exporter": "python",
   "pygments_lexer": "ipython3",
   "version": "3.5.2"
  }
 },
 "nbformat": 4,
 "nbformat_minor": 2
}
